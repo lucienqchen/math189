{
 "cells": [
  {
   "cell_type": "markdown",
   "id": "f5699a71",
   "metadata": {
    "tags": []
   },
   "source": [
    "# Week 1 Summary\n",
    "> NAME: $\\color{red}{\\text{Lucien Chen}}$\n",
    "> \n",
    "> PID: $\\color{red}{\\text{A17004542}}$\n",
    ">\n",
    "> \n",
    "---"
   ]
  },
  {
   "cell_type": "markdown",
   "id": "b0e61ba4-c23c-44b6-8933-ad5c5013a12d",
   "metadata": {},
   "source": [
    "I certify that the following write-up is my own work, and have abided by the UCSD Academic Integrity Guidelines.\n",
    "\n",
    "- [x] Yes\n",
    "- [ ] No"
   ]
  },
  {
   "cell_type": "markdown",
   "id": "2e3d69d4-fc3b-467c-867a-232ea44b034d",
   "metadata": {},
   "source": [
    "---"
   ]
  },
  {
   "cell_type": "markdown",
   "id": "de700466",
   "metadata": {},
   "source": [
    "## Key Takeaways from Week 1"
   ]
  },
  {
   "cell_type": "markdown",
   "id": "29081a6f",
   "metadata": {},
   "source": [
    "#### Thursday\n",
    "\n",
    "Markdown is a useful tool for scientific communication. It allows us to write beautiful math equations and do all sorts of other text formatting within the context of a Jupyter notebook and as a standalone file. We also covered the basics of Python such as datatypes, control flow, loops, etc. Additionally, we also covered linear algebra operations in Python using numpy. Some of which included vector addition, matrix multiplication, and eigenvalues/vectors.\n"
   ]
  },
  {
   "cell_type": "markdown",
   "id": "5928a1a1",
   "metadata": {},
   "source": [
    "---"
   ]
  },
  {
   "cell_type": "markdown",
   "id": "6c4009da",
   "metadata": {},
   "source": [
    "## Thu, Apr 4th"
   ]
  },
  {
   "cell_type": "markdown",
   "id": "50aa8ef5",
   "metadata": {},
   "source": [
    "### Basics of markdown"
   ]
  },
  {
   "cell_type": "markdown",
   "id": "aa7c1972",
   "metadata": {},
   "source": [
    "**Bullet Lists and Numbered Lists**"
   ]
  },
  {
   "cell_type": "markdown",
   "id": "8c99d370",
   "metadata": {},
   "source": [
    "This is a bullet list:\n",
    "\n",
    "* Item 1\n",
    "    - Subitem 1\n",
    "        - Subsubitem 1\n",
    "            - Subsubsubitem 1\n",
    "                - Subsubsubsubitem 1\n",
    "                    - Subsubsubsubsubitem 1\n",
    "    - Subitem 2\n",
    "* Item 2\n",
    "* Item 3"
   ]
  },
  {
   "cell_type": "markdown",
   "id": "15880f79",
   "metadata": {},
   "source": [
    "This is a numbered list:\n",
    "1. Item 1\n",
    "    1. Subitem 1\n",
    "        1. Subsubitem 1\n",
    "        1. Subsubitem 2\n",
    "2. Item 2\n",
    "3. Item 3"
   ]
  },
  {
   "cell_type": "markdown",
   "id": "dd300ee4",
   "metadata": {},
   "source": [
    "**Math**"
   ]
  },
  {
   "cell_type": "markdown",
   "id": "cbf52587",
   "metadata": {},
   "source": [
    "$\\LaTeX$"
   ]
  },
  {
   "cell_type": "markdown",
   "id": "5ac84bad",
   "metadata": {},
   "source": [
    "This is an in-line math equation $\\alpha x^2 + \\beta x + c = 0$ (quadratic)"
   ]
  },
  {
   "cell_type": "markdown",
   "id": "c6eb24cc",
   "metadata": {},
   "source": [
    "Below is a stand alone math equation"
   ]
  },
  {
   "cell_type": "markdown",
   "id": "49239c31",
   "metadata": {},
   "source": [
    "$$ e^x = \\sum_{n=0}^\\infty \\frac{x^n}{n!}  $$"
   ]
  },
  {
   "cell_type": "markdown",
   "id": "1cf69eb8",
   "metadata": {},
   "source": [
    "$$\n",
    "\\begin{aligned}\n",
    "\\bar{X} = \\frac{1}{n} \\sum_{i=1}^n x_i\n",
    "\\end{aligned}\n",
    "$$"
   ]
  },
  {
   "cell_type": "markdown",
   "id": "493984b6",
   "metadata": {},
   "source": [
    "**Boxed & Colored Equations**"
   ]
  },
  {
   "cell_type": "markdown",
   "id": "f597d173",
   "metadata": {},
   "source": [
    "This is the expression for sample mean\n",
    "$$\n",
    "\\boxed{\n",
    "\\color{skyblue}{\\frac{1}{n} \\sum_{i=1}^n X_i}\n",
    "}\n",
    "$$"
   ]
  },
  {
   "cell_type": "markdown",
   "id": "365246bd",
   "metadata": {},
   "source": [
    "**Math Macros**"
   ]
  },
  {
   "cell_type": "markdown",
   "id": "171b6ead",
   "metadata": {},
   "source": [
    "$$\n",
    "\\newcommand{\\newsum}[2]{\\sum_{i=#1}^{#2}}\n",
    "\n",
    "\\newsum{0}{n} x_i\n",
    "$$"
   ]
  },
  {
   "cell_type": "markdown",
   "id": "e6ba9e03",
   "metadata": {},
   "source": [
    "$$\n",
    "\\newcommand{\\Xn}{X_1, X_2, \\cdots, X_n}\n",
    "\\Xn \\text{ is sampled iid from $H_0$}\n",
    "$$"
   ]
  },
  {
   "cell_type": "markdown",
   "id": "c3d4b14f",
   "metadata": {},
   "source": [
    "---"
   ]
  },
  {
   "cell_type": "markdown",
   "id": "b7ea09a5",
   "metadata": {},
   "source": [
    "**Data Types**"
   ]
  },
  {
   "cell_type": "markdown",
   "id": "687f023d",
   "metadata": {},
   "source": [
    "We have int, float, string and bool."
   ]
  },
  {
   "cell_type": "code",
   "execution_count": 1,
   "id": "c78d69ae",
   "metadata": {},
   "outputs": [
    {
     "data": {
      "text/plain": [
       "1"
      ]
     },
     "execution_count": 1,
     "metadata": {},
     "output_type": "execute_result"
    }
   ],
   "source": [
    "int(1.1)"
   ]
  },
  {
   "cell_type": "code",
   "execution_count": 2,
   "id": "9fc90648",
   "metadata": {},
   "outputs": [
    {
     "data": {
      "text/plain": [
       "1.0"
      ]
     },
     "execution_count": 2,
     "metadata": {},
     "output_type": "execute_result"
    }
   ],
   "source": [
    "float(1)"
   ]
  },
  {
   "cell_type": "code",
   "execution_count": 3,
   "id": "fc4469db",
   "metadata": {},
   "outputs": [
    {
     "data": {
      "text/plain": [
       "'0abcabcabc'"
      ]
     },
     "execution_count": 3,
     "metadata": {},
     "output_type": "execute_result"
    }
   ],
   "source": [
    "str(0) + \"abc\" * 3"
   ]
  },
  {
   "cell_type": "code",
   "execution_count": 4,
   "id": "2276ce61",
   "metadata": {},
   "outputs": [
    {
     "data": {
      "text/plain": [
       "False"
      ]
     },
     "execution_count": 4,
     "metadata": {},
     "output_type": "execute_result"
    }
   ],
   "source": [
    "bool(0)"
   ]
  },
  {
   "cell_type": "code",
   "execution_count": 5,
   "id": "27a4b0a8",
   "metadata": {},
   "outputs": [
    {
     "data": {
      "text/plain": [
       "True"
      ]
     },
     "execution_count": 5,
     "metadata": {},
     "output_type": "execute_result"
    }
   ],
   "source": [
    "bool(1)"
   ]
  },
  {
   "cell_type": "markdown",
   "id": "3a580c05",
   "metadata": {},
   "source": [
    "**Arithmetic Operations (+, -, \\*, /, %, //)**"
   ]
  },
  {
   "cell_type": "code",
   "execution_count": 6,
   "id": "017d93f7",
   "metadata": {},
   "outputs": [
    {
     "data": {
      "text/plain": [
       "1"
      ]
     },
     "execution_count": 6,
     "metadata": {},
     "output_type": "execute_result"
    }
   ],
   "source": [
    "3 // 2 # returns the remainder after division"
   ]
  },
  {
   "cell_type": "code",
   "execution_count": 7,
   "id": "8ef83270",
   "metadata": {},
   "outputs": [
    {
     "data": {
      "text/plain": [
       "26"
      ]
     },
     "execution_count": 7,
     "metadata": {},
     "output_type": "execute_result"
    }
   ],
   "source": [
    "13 * 2"
   ]
  },
  {
   "cell_type": "code",
   "execution_count": 8,
   "id": "40d83bf1",
   "metadata": {},
   "outputs": [
    {
     "data": {
      "text/plain": [
       "6.0"
      ]
     },
     "execution_count": 8,
     "metadata": {},
     "output_type": "execute_result"
    }
   ],
   "source": [
    "12/2"
   ]
  },
  {
   "cell_type": "code",
   "execution_count": 9,
   "id": "c45fa024",
   "metadata": {},
   "outputs": [
    {
     "data": {
      "text/plain": [
       "2"
      ]
     },
     "execution_count": 9,
     "metadata": {},
     "output_type": "execute_result"
    }
   ],
   "source": [
    "1 + 1"
   ]
  },
  {
   "cell_type": "code",
   "execution_count": 10,
   "id": "c7403118",
   "metadata": {},
   "outputs": [
    {
     "data": {
      "text/plain": [
       "10"
      ]
     },
     "execution_count": 10,
     "metadata": {},
     "output_type": "execute_result"
    }
   ],
   "source": [
    "100 - 90"
   ]
  },
  {
   "cell_type": "code",
   "execution_count": 11,
   "id": "bb40cf36",
   "metadata": {},
   "outputs": [
    {
     "data": {
      "text/plain": [
       "256"
      ]
     },
     "execution_count": 11,
     "metadata": {},
     "output_type": "execute_result"
    }
   ],
   "source": [
    "4 ** 4 # exponentiation"
   ]
  },
  {
   "cell_type": "markdown",
   "id": "41251eb8",
   "metadata": {},
   "source": [
    "**Data Structures (Lists, Tuples, Sets, Dicts)**"
   ]
  },
  {
   "cell_type": "code",
   "execution_count": 12,
   "id": "68c98e30",
   "metadata": {},
   "outputs": [
    {
     "data": {
      "text/plain": [
       "list"
      ]
     },
     "execution_count": 12,
     "metadata": {},
     "output_type": "execute_result"
    }
   ],
   "source": [
    "lst = [1, 2, 3]\n",
    "type(lst)"
   ]
  },
  {
   "cell_type": "code",
   "execution_count": 13,
   "id": "e3f8b628",
   "metadata": {},
   "outputs": [
    {
     "data": {
      "text/plain": [
       "1"
      ]
     },
     "execution_count": 13,
     "metadata": {},
     "output_type": "execute_result"
    }
   ],
   "source": [
    "lst[0]"
   ]
  },
  {
   "cell_type": "code",
   "execution_count": 14,
   "id": "4cd9a7db",
   "metadata": {},
   "outputs": [
    {
     "data": {
      "text/plain": [
       "tuple"
      ]
     },
     "execution_count": 14,
     "metadata": {},
     "output_type": "execute_result"
    }
   ],
   "source": [
    "tup = 1, 2, 3\n",
    "type(tup)"
   ]
  },
  {
   "cell_type": "code",
   "execution_count": 15,
   "id": "9b14cb49",
   "metadata": {},
   "outputs": [
    {
     "data": {
      "text/plain": [
       "3"
      ]
     },
     "execution_count": 15,
     "metadata": {},
     "output_type": "execute_result"
    }
   ],
   "source": [
    "tup[2]"
   ]
  },
  {
   "cell_type": "code",
   "execution_count": 16,
   "id": "2de5cfa4",
   "metadata": {},
   "outputs": [
    {
     "data": {
      "text/plain": [
       "'Lucien'"
      ]
     },
     "execution_count": 16,
     "metadata": {},
     "output_type": "execute_result"
    }
   ],
   "source": [
    "dct = {\"name\": \"Lucien\"}\n",
    "dct[\"name\"] # accessing a dict using key-value"
   ]
  },
  {
   "cell_type": "code",
   "execution_count": 17,
   "id": "8e765433",
   "metadata": {},
   "outputs": [
    {
     "data": {
      "text/plain": [
       "{'a': 1, 'b': 2, 'c': 3}"
      ]
     },
     "execution_count": 17,
     "metadata": {},
     "output_type": "execute_result"
    }
   ],
   "source": [
    "keys = [\"a\", \"b\", \"c\"]\n",
    "values = [1, 2, 3]\n",
    "another_dict = dict(zip(keys, values))\n",
    "another_dict"
   ]
  },
  {
   "cell_type": "code",
   "execution_count": 18,
   "id": "0b451995",
   "metadata": {},
   "outputs": [
    {
     "data": {
      "text/plain": [
       "False"
      ]
     },
     "execution_count": 18,
     "metadata": {},
     "output_type": "execute_result"
    }
   ],
   "source": [
    "a = {1, 2, 3}\n",
    "b = {4, 5, 6}\n",
    "a.issubset(b)"
   ]
  },
  {
   "cell_type": "markdown",
   "id": "cb4cbe65",
   "metadata": {},
   "source": [
    "**Conditionals, Loops**"
   ]
  },
  {
   "cell_type": "code",
   "execution_count": 19,
   "id": "15fc5595",
   "metadata": {},
   "outputs": [
    {
     "name": "stdout",
     "output_type": "stream",
     "text": [
      "0\n",
      "1\n",
      "2\n",
      "3\n",
      "4\n",
      "5\n",
      "6\n",
      "7\n",
      "8\n",
      "9\n"
     ]
    }
   ],
   "source": [
    "for i in range(10):\n",
    "    print(i)"
   ]
  },
  {
   "cell_type": "code",
   "execution_count": 20,
   "id": "5431d699",
   "metadata": {},
   "outputs": [
    {
     "name": "stdout",
     "output_type": "stream",
     "text": [
      "5 is not greater than 10\n"
     ]
    }
   ],
   "source": [
    "if 10 > 5:\n",
    "    print(\"5 is not greater than 10\")"
   ]
  },
  {
   "cell_type": "code",
   "execution_count": 21,
   "id": "2d172b7f",
   "metadata": {},
   "outputs": [
    {
     "name": "stdout",
     "output_type": "stream",
     "text": [
      "\n",
      "*\n",
      "**\n",
      "***\n",
      "****\n",
      "*****\n",
      "******\n",
      "*******\n",
      "********\n",
      "*********\n",
      "**********\n",
      "***********\n",
      "************\n",
      "*************\n",
      "**************\n"
     ]
    }
   ],
   "source": [
    "n = 0\n",
    "while n < 15:\n",
    "    print(\"*\" * n)\n",
    "    n += 1"
   ]
  },
  {
   "cell_type": "markdown",
   "id": "e23eaf38",
   "metadata": {},
   "source": [
    "**Functions**"
   ]
  },
  {
   "cell_type": "code",
   "execution_count": 22,
   "id": "398452dc",
   "metadata": {},
   "outputs": [],
   "source": [
    "def fibonacci(n):\n",
    "    return 0 if n == 0 else 1 if n == 1 else n + fibonacci(n-1)"
   ]
  },
  {
   "cell_type": "code",
   "execution_count": 23,
   "id": "d3098794",
   "metadata": {},
   "outputs": [
    {
     "data": {
      "text/plain": [
       "6"
      ]
     },
     "execution_count": 23,
     "metadata": {},
     "output_type": "execute_result"
    }
   ],
   "source": [
    "fibonacci(3)"
   ]
  },
  {
   "cell_type": "code",
   "execution_count": 24,
   "id": "30487d6d",
   "metadata": {},
   "outputs": [
    {
     "data": {
      "text/plain": [
       "6"
      ]
     },
     "execution_count": 24,
     "metadata": {},
     "output_type": "execute_result"
    }
   ],
   "source": [
    "fib = lambda n: 0 if n == 0 else 1 if n == 1 else n + fib(n-1) # anonymous/lambda function\n",
    "fib(3)"
   ]
  },
  {
   "cell_type": "markdown",
   "id": "ad2d56af",
   "metadata": {},
   "source": [
    "**Vectors**"
   ]
  },
  {
   "cell_type": "code",
   "execution_count": 25,
   "id": "c8336f0c",
   "metadata": {},
   "outputs": [],
   "source": [
    "import numpy as np"
   ]
  },
  {
   "cell_type": "code",
   "execution_count": 26,
   "id": "a7959f07",
   "metadata": {},
   "outputs": [
    {
     "data": {
      "text/plain": [
       "array([1, 2, 3])"
      ]
     },
     "execution_count": 26,
     "metadata": {},
     "output_type": "execute_result"
    }
   ],
   "source": [
    "v = np.array([1, 2, 3])\n",
    "w = np.array([4, 5, 6])\n",
    "v"
   ]
  },
  {
   "cell_type": "code",
   "execution_count": 27,
   "id": "11166e7e",
   "metadata": {},
   "outputs": [
    {
     "data": {
      "text/plain": [
       "array([4, 5, 6])"
      ]
     },
     "execution_count": 27,
     "metadata": {},
     "output_type": "execute_result"
    }
   ],
   "source": [
    "w"
   ]
  },
  {
   "cell_type": "markdown",
   "id": "b4e81673",
   "metadata": {},
   "source": [
    "When you add two vectors ..."
   ]
  },
  {
   "cell_type": "code",
   "execution_count": 28,
   "id": "16f361b2",
   "metadata": {},
   "outputs": [
    {
     "data": {
      "text/plain": [
       "array([5, 7, 9])"
      ]
     },
     "execution_count": 28,
     "metadata": {},
     "output_type": "execute_result"
    }
   ],
   "source": [
    "v + w"
   ]
  },
  {
   "cell_type": "markdown",
   "id": "215464eb",
   "metadata": {},
   "source": [
    "When you multiply a vector by a scalar you get a new vector where each element is the element-wise sum of the two arrays:\n",
    "\n",
    "$$\n",
    "\\begin{align}\n",
    "\\vec{Z} = \\vec{V} + \\vec{W}\n",
    "\\\\\n",
    "z_i = v_i + w_i\n",
    "\\end{align}\n",
    "$$"
   ]
  },
  {
   "cell_type": "code",
   "execution_count": 29,
   "id": "eb17d57e",
   "metadata": {},
   "outputs": [
    {
     "data": {
      "text/plain": [
       "array([10, 20, 30])"
      ]
     },
     "execution_count": 29,
     "metadata": {},
     "output_type": "execute_result"
    }
   ],
   "source": [
    "10 * v"
   ]
  },
  {
   "cell_type": "markdown",
   "id": "be1dd332",
   "metadata": {},
   "source": [
    "You can \"multiply\" two vectors in two different ways:\n",
    "\n",
    "1. dot product:\n",
    "$$\n",
    "u^Tv = \\sum_{i=1}^n u_iv_i\n",
    "$$\n",
    "2. cross product:\n",
    "$$\n",
    "A \\times B = \\|A\\| \\|B\\| sin(\\theta)n\n",
    "$$"
   ]
  },
  {
   "cell_type": "markdown",
   "id": "0b2a9217",
   "metadata": {},
   "source": [
    "In Python:"
   ]
  },
  {
   "cell_type": "code",
   "execution_count": 30,
   "id": "8a4dff16",
   "metadata": {},
   "outputs": [
    {
     "data": {
      "text/plain": [
       "32"
      ]
     },
     "execution_count": 30,
     "metadata": {},
     "output_type": "execute_result"
    }
   ],
   "source": [
    "v.T.dot(w)"
   ]
  },
  {
   "cell_type": "code",
   "execution_count": 31,
   "id": "993e7f96",
   "metadata": {},
   "outputs": [
    {
     "data": {
      "text/plain": [
       "array([-3,  6, -3])"
      ]
     },
     "execution_count": 31,
     "metadata": {},
     "output_type": "execute_result"
    }
   ],
   "source": [
    "np.cross(v, w)"
   ]
  },
  {
   "cell_type": "markdown",
   "id": "58b01417",
   "metadata": {},
   "source": [
    "**Matrices**"
   ]
  },
  {
   "cell_type": "markdown",
   "id": "39642289",
   "metadata": {},
   "source": [
    "Intuitively, a matrix is n vectors of size m (m x n)"
   ]
  },
  {
   "cell_type": "code",
   "execution_count": 32,
   "id": "c15cfbc5",
   "metadata": {},
   "outputs": [],
   "source": [
    "mat = np.array([[1, 0, 0], [0, 1, 0], [0, 0, 1]])"
   ]
  },
  {
   "cell_type": "code",
   "execution_count": 33,
   "id": "cba545e5",
   "metadata": {},
   "outputs": [
    {
     "data": {
      "text/plain": [
       "array([[1, 0, 0],\n",
       "       [0, 1, 0],\n",
       "       [0, 0, 1]])"
      ]
     },
     "execution_count": 33,
     "metadata": {},
     "output_type": "execute_result"
    }
   ],
   "source": [
    "mat"
   ]
  },
  {
   "cell_type": "markdown",
   "id": "95f7007f",
   "metadata": {},
   "source": [
    "When a matrix acts on a vector, you get ..."
   ]
  },
  {
   "cell_type": "code",
   "execution_count": 34,
   "id": "27cef97f",
   "metadata": {},
   "outputs": [
    {
     "data": {
      "text/plain": [
       "array([[ 1,  4,  9],\n",
       "       [ 4, 10, 18],\n",
       "       [ 7, 16, 27]])"
      ]
     },
     "execution_count": 34,
     "metadata": {},
     "output_type": "execute_result"
    }
   ],
   "source": [
    "# Creating vectors and matrices\n",
    "vector = np.array([1, 2, 3])\n",
    "matrix = np.array([[1, 2, 3], [4, 5, 6], [7, 8, 9]])\n",
    "\n",
    "# Calculating the product\n",
    "product = matrix * vector\n",
    "product"
   ]
  },
  {
   "cell_type": "code",
   "execution_count": 35,
   "id": "6f0e4cab",
   "metadata": {},
   "outputs": [
    {
     "data": {
      "text/plain": [
       "array([14, 32, 50])"
      ]
     },
     "execution_count": 35,
     "metadata": {},
     "output_type": "execute_result"
    }
   ],
   "source": [
    "matrix @ vector"
   ]
  },
  {
   "cell_type": "code",
   "execution_count": 36,
   "id": "15346820",
   "metadata": {},
   "outputs": [
    {
     "data": {
      "text/plain": [
       "array([[ 30,  36,  42],\n",
       "       [ 66,  81,  96],\n",
       "       [102, 126, 150]])"
      ]
     },
     "execution_count": 36,
     "metadata": {},
     "output_type": "execute_result"
    }
   ],
   "source": [
    "matrix @ matrix"
   ]
  },
  {
   "cell_type": "markdown",
   "id": "b0659f26",
   "metadata": {},
   "source": [
    "**Basic linear algebra operations:**\n",
    "1. Norm: the length of a measure\n",
    "$$\n",
    "\\|X\\| = \\sqrt{\\sum_{i=1}^n x_i^2}\n",
    "$$\n",
    "2. Dot product: the product of the magnitude of two vectors:\n",
    "a^Tb = \\sum_{i=1}^n a_ib_i\n",
    "4. Matrix transpose: the flipped form of a matrix\n",
    "$$\n",
    "A = \\begin{bmatrix}\n",
    "1 & 2 & 3 \\\\ 4 & 5 & 6\n",
    "\\end{bmatrix}\n",
    "$$\n",
    "$$\n",
    "A^T = \\begin{bmatrix}\n",
    "1 & 4 \\\\ 2 & 5 \\\\ 3 & 6\n",
    "\\end{bmatrix}\n",
    "$$\n",
    "4. Matrix inverse: another matrix such that\n",
    "\n",
    "$$ A * A^{-1} = I $$\n",
    "\n",
    "where $I$ is the identity matrix"
   ]
  },
  {
   "cell_type": "code",
   "execution_count": 37,
   "id": "01ef5e54",
   "metadata": {},
   "outputs": [
    {
     "data": {
      "text/plain": [
       "matrix([[1, 2],\n",
       "        [3, 4]])"
      ]
     },
     "execution_count": 37,
     "metadata": {},
     "output_type": "execute_result"
    }
   ],
   "source": [
    "A = np.matrix([[1, 2], [3, 4]])\n",
    "A"
   ]
  },
  {
   "cell_type": "code",
   "execution_count": 38,
   "id": "a29fcc7b",
   "metadata": {},
   "outputs": [
    {
     "data": {
      "text/plain": [
       "5.477225575051661"
      ]
     },
     "execution_count": 38,
     "metadata": {},
     "output_type": "execute_result"
    }
   ],
   "source": [
    "np.linalg.norm(A) # norm"
   ]
  },
  {
   "cell_type": "code",
   "execution_count": 39,
   "id": "b0a4a142",
   "metadata": {},
   "outputs": [
    {
     "data": {
      "text/plain": [
       "matrix([[ 7, 10],\n",
       "        [15, 22]])"
      ]
     },
     "execution_count": 39,
     "metadata": {},
     "output_type": "execute_result"
    }
   ],
   "source": [
    "A * A # dot product"
   ]
  },
  {
   "cell_type": "code",
   "execution_count": 40,
   "id": "06424583",
   "metadata": {},
   "outputs": [
    {
     "data": {
      "text/plain": [
       "matrix([[1, 3],\n",
       "        [2, 4]])"
      ]
     },
     "execution_count": 40,
     "metadata": {},
     "output_type": "execute_result"
    }
   ],
   "source": [
    "A.T # transpose"
   ]
  },
  {
   "cell_type": "code",
   "execution_count": 41,
   "id": "6291077a",
   "metadata": {},
   "outputs": [
    {
     "data": {
      "text/plain": [
       "matrix([[-2. ,  1. ],\n",
       "        [ 1.5, -0.5]])"
      ]
     },
     "execution_count": 41,
     "metadata": {},
     "output_type": "execute_result"
    }
   ],
   "source": [
    "A_inverse = np.linalg.inv(A) # inverse\n",
    "A_inverse"
   ]
  },
  {
   "cell_type": "code",
   "execution_count": 42,
   "id": "cdc287b2",
   "metadata": {},
   "outputs": [
    {
     "data": {
      "text/plain": [
       "matrix([[1.00000000e+00, 1.11022302e-16],\n",
       "        [0.00000000e+00, 1.00000000e+00]])"
      ]
     },
     "execution_count": 42,
     "metadata": {},
     "output_type": "execute_result"
    }
   ],
   "source": [
    "A * A_inverse # the bottom left \"nonzero\" is due to rounding errors"
   ]
  },
  {
   "cell_type": "markdown",
   "id": "334f2192",
   "metadata": {},
   "source": [
    "**Slightly more advanced linear algebra operations**"
   ]
  },
  {
   "cell_type": "markdown",
   "id": "3d968462",
   "metadata": {},
   "source": [
    "If we're given a system of equations, for example, \n",
    "\n",
    "$$\n",
    "\\begin{align*}\n",
    "2x + 3y &= 5 \\\\\n",
    "4x + 5y &= 6\n",
    "\\end{align*}\n",
    "$$\n",
    "\n",
    "We can represent it in the matrix-vector form as ..."
   ]
  },
  {
   "cell_type": "markdown",
   "id": "60b7c47c",
   "metadata": {},
   "source": [
    "$$\n",
    "\\begin{pmatrix}\n",
    "2 & 3 \\\\ 4 & 5\n",
    "\\end{pmatrix}\n",
    "\\begin{pmatrix}\n",
    "x \\\\ y\n",
    "\\end{pmatrix}\n",
    "= \n",
    "\\begin{pmatrix}\n",
    "5 \\\\ 6\n",
    "\\end{pmatrix}"
   ]
  },
  {
   "cell_type": "markdown",
   "id": "5be358a9",
   "metadata": {},
   "source": [
    "The solution for the unknown variables, $(x, y)$ is given by ..."
   ]
  },
  {
   "cell_type": "markdown",
   "id": "c27b6ae2",
   "metadata": {},
   "source": [
    "$$ \\begin{pmatrix} x \\\\ y \\end{pmatrix} = \\begin{pmatrix} -\\frac{7}{2} \\\\ 4 \\end{pmatrix} $$"
   ]
  },
  {
   "cell_type": "markdown",
   "id": "f07d95f8",
   "metadata": {},
   "source": [
    "In code, we can do this as follows: ..."
   ]
  },
  {
   "cell_type": "code",
   "execution_count": 43,
   "id": "17da9f42",
   "metadata": {},
   "outputs": [
    {
     "data": {
      "text/plain": [
       "array([-3.5,  4. ])"
      ]
     },
     "execution_count": 43,
     "metadata": {},
     "output_type": "execute_result"
    }
   ],
   "source": [
    "# Solving a system of linear equations\n",
    "A = np.array([[2, 3], [4, 5]])\n",
    "b = np.array([5, 6])\n",
    "solution = np.linalg.solve(A, b)\n",
    "solution # equivalent to the solution above"
   ]
  },
  {
   "cell_type": "markdown",
   "id": "f14cb893",
   "metadata": {},
   "source": [
    "---"
   ]
  },
  {
   "cell_type": "markdown",
   "id": "4c3c84c6",
   "metadata": {},
   "source": [
    "**Eigenvalues and eigenvectors**"
   ]
  },
  {
   "cell_type": "markdown",
   "id": "2f086932",
   "metadata": {},
   "source": [
    "Given an $n \\times n$ matrix $A$, the eigenvalue of $A$ is the scalar $\\lambda$ such that $\\exists$ a $v$ s.t. $Av = \\lambda v$"
   ]
  },
  {
   "cell_type": "markdown",
   "id": "c4662cd0",
   "metadata": {},
   "source": [
    "The eigenvector of $A$ is the vector $v$ such that $\\exists$ a $\\lambda$ s.t. $Av = \\lambda v$"
   ]
  },
  {
   "cell_type": "markdown",
   "id": "48e779b5",
   "metadata": {},
   "source": [
    "Intuitively, the eigenvector of a matrix describes vector(s) in which multiplying by A results in another vector with the same or opposite direction, that is the resulting vector is parallel."
   ]
  },
  {
   "cell_type": "markdown",
   "id": "6f3eb584",
   "metadata": {},
   "source": [
    "In code, we can compute the eigenvalues and eigenvectors of a matrix as follows:"
   ]
  },
  {
   "cell_type": "code",
   "execution_count": 44,
   "id": "14936c12",
   "metadata": {},
   "outputs": [],
   "source": [
    "a = np.random.randn(2, 2)\n",
    "A = a @ a.T\n",
    "eigvals, eigvecs = np.linalg.eig(A)"
   ]
  },
  {
   "cell_type": "markdown",
   "id": "b11ff8bf",
   "metadata": {},
   "source": [
    "We can verify that the eigenvalues and eigenvectors are correct by running the following code and ensuring that the output matches the expected values:\n"
   ]
  },
  {
   "cell_type": "code",
   "execution_count": 45,
   "id": "01a64b26",
   "metadata": {},
   "outputs": [
    {
     "data": {
      "text/plain": [
       "array([0.18041685, 1.43154845])"
      ]
     },
     "execution_count": 45,
     "metadata": {},
     "output_type": "execute_result"
    }
   ],
   "source": [
    "eigvals"
   ]
  },
  {
   "cell_type": "code",
   "execution_count": 46,
   "id": "226d378c",
   "metadata": {},
   "outputs": [
    {
     "data": {
      "text/plain": [
       "True"
      ]
     },
     "execution_count": 46,
     "metadata": {},
     "output_type": "execute_result"
    }
   ],
   "source": [
    "lambda1 = max(eigvals) # Largest eigenvalue\n",
    "v1 = eigvecs[:, np.argmax(eigvals)] # Corresponding eigenvector\n",
    "\n",
    "\n",
    "# Expected value of Av\n",
    "expected_value = lambda1 * v1\n",
    "\n",
    "# Actual value of Av\n",
    "Av = A @ v1\n",
    "\n",
    "# Check if the expected value and actual value are equal\n",
    "np.allclose(expected_value, Av)"
   ]
  },
  {
   "cell_type": "markdown",
   "id": "be82536d",
   "metadata": {},
   "source": [
    "As we can see from above, our mathematical definition of eigenvalues and eigenvectors are correct. In the code example, we see that $Av = \\lambda v$ when $\\lambda$ is one of the eigenvalues and $v$ is the corresponding eigenvector."
   ]
  }
 ],
 "metadata": {
  "kernelspec": {
   "display_name": "Python 3 (ipykernel)",
   "language": "python",
   "name": "python3"
  },
  "language_info": {
   "codemirror_mode": {
    "name": "ipython",
    "version": 3
   },
   "file_extension": ".py",
   "mimetype": "text/x-python",
   "name": "python",
   "nbconvert_exporter": "python",
   "pygments_lexer": "ipython3",
   "version": "3.10.1"
  }
 },
 "nbformat": 4,
 "nbformat_minor": 5
}
