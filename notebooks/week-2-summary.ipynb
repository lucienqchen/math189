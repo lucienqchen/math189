{
 "cells": [
  {
   "cell_type": "markdown",
   "id": "d499b8cf",
   "metadata": {},
   "source": [
    "# Week 2 Summary\n",
    "> NAME: $\\color{red}{\\text{Lucien Chen}}$\n",
    "> \n",
    "> PID: $\\color{red}{\\text{A17004542}}$\n",
    ">\n",
    "> \n",
    "---"
   ]
  },
  {
   "cell_type": "markdown",
   "id": "1bce0cf8",
   "metadata": {},
   "source": [
    "I certify that the following write-up is my own work, and have abided by the UCSD Academic Integrity Guidelines.\n",
    "\n",
    "- [x] Yes\n",
    "- [ ] No"
   ]
  },
  {
   "cell_type": "markdown",
   "id": "6a1c41b1",
   "metadata": {},
   "source": [
    "% # %load tex-macros\n",
    "<div hidden>\n",
    "\\newcommand{\\require}[1]{}\n",
    "$\\usepackage{amsmath}$\n",
    "$\\require{begingroup}\\require{newcommand}$\n",
    "$\\long\\def \\forcecommand #1{\\providecommand{#1}{}\\renewcommand{#1}}$\n",
    "$\\forcecommand{\\defeq}{\\stackrel{\\small\\bullet}{=}}$\n",
    "$\\forcecommand{\\ra}{\\rangle}$\n",
    "$\\forcecommand{\\la}{\\langle}$\n",
    "$\\forcecommand{\\pr}{{\\mathbb P}}$\n",
    "$\\forcecommand{\\qr}{{\\mathbb Q}}$\n",
    "$\\forcecommand{\\xv}{{\\boldsymbol{x}}}$\n",
    "$\\forcecommand{\\av}{{\\boldsymbol{a}}}$\n",
    "$\\forcecommand{\\bv}{{\\boldsymbol{b}}}$\n",
    "$\\forcecommand{\\cv}{{\\boldsymbol{c}}}$\n",
    "$\\forcecommand{\\dv}{{\\boldsymbol{d}}}$\n",
    "$\\forcecommand{\\ev}{{\\boldsymbol{e}}}$\n",
    "$\\forcecommand{\\fv}{{\\boldsymbol{f}}}$\n",
    "$\\forcecommand{\\gv}{{\\boldsymbol{g}}}$\n",
    "$\\forcecommand{\\hv}{{\\boldsymbol{h}}}$\n",
    "$\\forcecommand{\\nv}{{\\boldsymbol{n}}}$\n",
    "$\\forcecommand{\\sv}{{\\boldsymbol{s}}}$\n",
    "$\\forcecommand{\\tv}{{\\boldsymbol{t}}}$\n",
    "$\\forcecommand{\\uv}{{\\boldsymbol{u}}}$\n",
    "$\\forcecommand{\\vv}{{\\boldsymbol{v}}}$\n",
    "$\\forcecommand{\\wv}{{\\boldsymbol{w}}}$\n",
    "$\\forcecommand{\\zerov}{{\\mathbf{0}}}$\n",
    "$\\forcecommand{\\onev}{{\\mathbf{0}}}$\n",
    "$\\forcecommand{\\phiv}{{\\boldsymbol{\\phi}}}$\n",
    "$\\forcecommand{\\cc}{{\\check{C}}}$\n",
    "$\\forcecommand{\\xv}{{\\boldsymbol{x}}}$\n",
    "$\\forcecommand{\\Xv}{{\\boldsymbol{X}\\!}}$\n",
    "$\\forcecommand{\\yv}{{\\boldsymbol{y}}}$\n",
    "$\\forcecommand{\\Yv}{{\\boldsymbol{Y}}}$\n",
    "$\\forcecommand{\\zv}{{\\boldsymbol{z}}}$\n",
    "$\\forcecommand{\\Zv}{{\\boldsymbol{Z}}}$\n",
    "$\\forcecommand{\\Iv}{{\\boldsymbol{I}}}$\n",
    "$\\forcecommand{\\Jv}{{\\boldsymbol{J}}}$\n",
    "$\\forcecommand{\\Cv}{{\\boldsymbol{C}}}$\n",
    "$\\forcecommand{\\Ev}{{\\boldsymbol{E}}}$\n",
    "$\\forcecommand{\\Fv}{{\\boldsymbol{F}}}$\n",
    "$\\forcecommand{\\Gv}{{\\boldsymbol{G}}}$\n",
    "$\\forcecommand{\\Hv}{{\\boldsymbol{H}}}$\n",
    "$\\forcecommand{\\alphav}{{\\boldsymbol{\\alpha}}}$\n",
    "$\\forcecommand{\\epsilonv}{{\\boldsymbol{\\epsilon}}}$\n",
    "$\\forcecommand{\\betav}{{\\boldsymbol{\\beta}}}$\n",
    "$\\forcecommand{\\deltav}{{\\boldsymbol{\\delta}}}$\n",
    "$\\forcecommand{\\gammav}{{\\boldsymbol{\\gamma}}}$\n",
    "$\\forcecommand{\\etav}{{\\boldsymbol{\\eta}}}$\n",
    "$\\forcecommand{\\piv}{{\\boldsymbol{\\pi}}}$\n",
    "$\\forcecommand{\\thetav}{{\\boldsymbol{\\theta}}}$\n",
    "$\\forcecommand{\\tauv}{{\\boldsymbol{\\tau}}}$\n",
    "$\\forcecommand{\\muv}{{\\boldsymbol{\\mu}}}$\n",
    "$%$\n",
    "$\\forcecommand{\\sd}{\\text{SD}}$\n",
    "$\\forcecommand{\\se}{\\text{SE}}$\n",
    "$\\forcecommand{\\med}{\\text{median}}$\n",
    "$\\forcecommand{\\median}{\\text{median}}$\n",
    "$%$\n",
    "$\\forcecommand{\\supp}{\\text{supp}}$\n",
    "$\\forcecommand{\\E}{\\mathbb{E}}$\n",
    "$\\forcecommand{\\var}{\\text{Var}}$\n",
    "$\\forcecommand{\\Ber}{{\\text{Ber}}}$\n",
    "$\\forcecommand{\\Bin}{{\\text{Bin}}}$\n",
    "$\\forcecommand{\\Geo}{{\\text{Geo}}}$\n",
    "$\\forcecommand{\\Unif}{{\\text{Unif}}}$\n",
    "$\\forcecommand{\\Poi}{{\\text{Poi}}}$\n",
    "$\\forcecommand{\\Exp}{{\\text{Exp}}}$\n",
    "$\\forcecommand{\\Chisq}{{\\chi^2}}$\n",
    "$\\forcecommand{\\N}{\\mathbb{N}}$\n",
    "$\\forcecommand{\\iid}{{\\stackrel{iid}{\\sim}}}$\n",
    "$\\forcecommand{\\px}{p_{X}}$\n",
    "$\\forcecommand{\\fx}{f_{X}}$\n",
    "$\\forcecommand{\\Fx}{F_{X}}$\n",
    "$\\forcecommand{\\py}{p_{Y}}$\n",
    "$\\forcecommand{\\pxy}{p_{X,Y}}$\n",
    "$\\forcecommand{\\po}{{p_0}}$\n",
    "$\\forcecommand{\\pa}{{p_a}}$\n",
    "$\\forcecommand{\\Xbar}{\\overline{X}}$\n",
    "$\\forcecommand{\\Ybar}{\\overline{Y}}$\n",
    "$\\forcecommand{\\Zbar}{\\overline{Z}}$\n",
    "$\\forcecommand{\\nXbar}{n \\cdot \\overline{X}}$\n",
    "$\\forcecommand{\\nYbar}{n \\cdot \\overline{Y}}$\n",
    "$\\forcecommand{\\nZbar}{n \\cdot \\overline{Z}}$\n",
    "$\\forcecommand{\\Xn}{X_1, X_2, \\dots, X_n}$\n",
    "$\\forcecommand{\\Xm}{{X_1, X_2, \\dots, X_m}}$\n",
    "$\\forcecommand{\\Yn}{Y_1, Y_2, \\dots, Y_n}$\n",
    "$\\forcecommand{\\Ym}{{Y_1, Y_2, \\dots, Y_m}}$\n",
    "$\\forcecommand{\\sumXn}{X_1 + X_2 + \\dots + X_n}$\n",
    "$\\forcecommand{\\sumym}{Y_1 + Y_2 + \\dots + Y_m}$\n",
    "$\\forcecommand{\\la}{\\ell_\\alpha}$\n",
    "$\\forcecommand{\\ua}{u_\\alpha}$\n",
    "$\\forcecommand{\\at}{{\\alpha/2}}$\n",
    "$\\forcecommand{\\mux}{\\mu_{X}}$\n",
    "$\\forcecommand{\\muy}{\\mu_{Y}}$\n",
    "$\\forcecommand{\\sx}{\\sigma_{X}}$\n",
    "$\\forcecommand{\\sy}{\\sigma_{Y}}$\n",
    "$\\forcecommand{\\ci}{\\text{CI}}$\n",
    "$\\forcecommand{\\pvalue}{$p$-value}$\n",
    "$\\forcecommand{\\Ho}{H_{0}}$\n",
    "$\\forcecommand{\\Ha}{H_{a}}$\n",
    "\n",
    "\\vskip-\\parskip\n",
    "\\vskip-\\baselineskip\n",
    "</div>"
   ]
  },
  {
   "cell_type": "code",
   "execution_count": 1,
   "id": "bb0120db",
   "metadata": {},
   "outputs": [],
   "source": [
    "import numpy as np\n",
    "import scipy\n",
    "from scipy import stats as stats"
   ]
  },
  {
   "cell_type": "markdown",
   "id": "fbfec7ec",
   "metadata": {},
   "source": [
    "---"
   ]
  },
  {
   "cell_type": "markdown",
   "id": "15c6dc53",
   "metadata": {},
   "source": [
    "## Key Takeaways from Week 1"
   ]
  },
  {
   "cell_type": "markdown",
   "id": "cc992f31",
   "metadata": {},
   "source": [
    "\n",
    "#### Tuesday: \n",
    "\n",
    "There are three different types of probability: empirical, theoretical and subjective. We discuss different types of probability functions: probability mass functions and probability density functions as well as the cumulative distribution functions. Several well known probability distributions covered in class include the Uniform, Exponential, Poisson, Normal, etc. They all have well known properties such as their expectations and variance. "
   ]
  },
  {
   "cell_type": "markdown",
   "id": "6d69de7b",
   "metadata": {},
   "source": [
    "#### Thursday\n",
    "\n",
    "We covered some theorems such as the law or large numbers and central limit theorem which tells us how statistics will act asymptotically. We also cover sampling distributions and the empirical distribution function which allows us to compute the quantiles of a sample. We then move on to confidence intervals which allow us to capture the true value of a proportion with $\\alpha$ level of confidence. The two examples covered in class are confidence intervals for one sample proportions and for two sample difference in proportions.\n"
   ]
  },
  {
   "cell_type": "markdown",
   "id": "aaadbca8",
   "metadata": {},
   "source": [
    "---"
   ]
  },
  {
   "cell_type": "markdown",
   "id": "c2d78965",
   "metadata": {},
   "source": [
    "## Tue, Apr 9th"
   ]
  },
  {
   "cell_type": "markdown",
   "id": "0346e6ec",
   "metadata": {},
   "source": [
    "#### Probability Review"
   ]
  },
  {
   "cell_type": "markdown",
   "id": "59c8dd4f",
   "metadata": {},
   "source": [
    "Given a sample space $\\mathcal{S}$ and an event $A$, there are three qualiatively different ways to define the probability $P(A)$:"
   ]
  },
  {
   "cell_type": "markdown",
   "id": "03e3f4a3",
   "metadata": {},
   "source": [
    "**Empiricial Probability**\n",
    "\n",
    "\n",
    "$$\n",
    "P(A) = \\frac{\\# \\text{ of times A occurs}}{\\# \\text{ of trials}}\n",
    "$$\n",
    "\n",
    "An example of empirical probability is the following scenario:\n",
    "\n",
    "> Throwing a die 10 times and observing the number of 6's you get"
   ]
  },
  {
   "cell_type": "markdown",
   "id": "a29edae6",
   "metadata": {},
   "source": [
    "**Theoretical Probability**\n",
    "\n",
    "\n",
    "$$\n",
    "P(A) = \\frac{\\# \\text{ of ways A can occur}}{\\# \\text{ of possible outcomes}}\n",
    "$$\n",
    "\n",
    "An example of theoretical probability is the following scenario:\n",
    "\n",
    "> When flipping a fair coin, the theoretical probability that we get tails is 0.5 (1 way to get Tails/2 possible outcomes)"
   ]
  },
  {
   "cell_type": "markdown",
   "id": "0dd73cb3",
   "metadata": {},
   "source": [
    "**Subjective Probability**\n",
    "\n",
    "\n",
    "$$\n",
    "P(A) = \\text{degree of belief that A will occur}\n",
    "$$"
   ]
  },
  {
   "cell_type": "markdown",
   "id": "8839fbb4",
   "metadata": {},
   "source": [
    "#### Random Variables"
   ]
  },
  {
   "cell_type": "markdown",
   "id": "2d77ba66",
   "metadata": {},
   "source": [
    "Intuitively, a random variable $X$ is a variable whose value is the numerical outcome of a random phenomenon and, the support of a random variable, denoted $\\text{supp}(X)$, is the set of values X can take sometimes denoted $x \\in \\{X_1, X_2,..., X_N\\}$"
   ]
  },
  {
   "cell_type": "markdown",
   "id": "cf03d4b1",
   "metadata": {},
   "source": [
    "The distribution of a random variable describes the probability of each outcome denoted by $X \\sim f(\\theta)$ for some parameter of interest $\\theta$."
   ]
  },
  {
   "cell_type": "markdown",
   "id": "139b8215",
   "metadata": {},
   "source": [
    "For example:\n",
    "\n",
    "$$ X \\sim \\text{Bin}(n, p) \\\\ X \\sim \\text{Poi}(\\lambda) \\\\ X \\sim \\text{Exp}(\\lambda) \\\\ X \\sim \\text{Unif}(a, b) \\\\ X \\sim \\text{N}(\\mu, \\sigma^2)"
   ]
  },
  {
   "cell_type": "markdown",
   "id": "2ee5e428",
   "metadata": {},
   "source": [
    "A random variable $X$ can have different types of supports. \n",
    "\n",
    "1. **Categorical**: The support has different categories, but there is no way of comparing $\\geq$ or $\\leq$ between two categories\n",
    "- e.g. supp($X$) = {red, green, blue}\n",
    "2. **Ordinal**: The support has different categories and there is a way of comparing $\\geq$ or $\\leq$ between two categories, but cannot quantify the difference between them\n",
    "- e.g. supp($X$) = {low, medium, high}, supp($X$) = {good, okay, bad}\n",
    "3. **Discrete**: The support is a discrete collection of objects where we can compare $\\geq$ or $\\leq$ between two categories and quantify the difference bewtween them\n",
    "- e.g. supp($X$) = {0, 1}, supp($X$) = {0, 1, 2, ...}\n",
    "4. **Continuous**: The support is a continuum\n",
    "- e.g. supp($X$) = $\\mathbb{R}$, supp($X$) = $\\R^d$"
   ]
  },
  {
   "cell_type": "markdown",
   "id": "83d27a8e",
   "metadata": {},
   "source": [
    "### Example: Categorical Random Variables\n",
    "\n",
    "Let $X$ be a random variable which represents the color of a randomly chosen car you see on the road. Then,\n",
    "\n",
    "$$ \\text{supp}(X) = \\text{\\{red, green, blue\\}} $$\n",
    "\n",
    "How can you encode this in a computer program?\n",
    "\n",
    "e.g. One Hot Encoding\n",
    "\n",
    "$$\n",
    "X = \n",
    "\\begin{cases} \n",
    "      (1, 0, 0)^T & x=\\text{red} \\\\\n",
    "      (0, 1, 0)^T & x=\\text{green} \\\\\n",
    "      (0, 0, 1)^T & x=\\text{blue} \n",
    "\\end{cases}\n",
    "$$\n",
    "\n",
    "Dummy Variable Encoding\n",
    "\n",
    "$$\n",
    "X = \n",
    "\\begin{cases}\n",
    "      (0, 0)^T & x=\\text{red} \\\\\n",
    "      (1, 0)^T & x=\\text{green} \\\\\n",
    "      (0, 1)^T & x=\\text{blue}\n",
    "\\end{cases}\n",
    "$$"
   ]
  },
  {
   "cell_type": "markdown",
   "id": "1f3410ae",
   "metadata": {},
   "source": [
    "#### Properties of Random Variables"
   ]
  },
  {
   "cell_type": "markdown",
   "id": "82895a4c",
   "metadata": {},
   "source": [
    "**Probability Mas Function (PMF)**\n",
    "- the pmf of a discrete RV $X$ is a function $f_X$ that gives the probability that X takes on a certain value\n",
    "e.g.\n",
    "$$\n",
    "p_X = \n",
    "\\begin{cases}\n",
    "    \\frac{1}{2} & x=0 \\\\\n",
    "    \\frac{1}{2} & x=1\n",
    "\\end{cases}\n",
    "$$"
   ]
  },
  {
   "cell_type": "markdown",
   "id": "f78141b4",
   "metadata": {},
   "source": [
    "**Probability Density Function (PDF)**\n",
    "- the pdf of a continuous RV $X$ is a function $f_X$ that gives the probability that $X$ is in a particular interval\n",
    "$$\\mathbb{P}(a \\leq X \\leq b) = \\int_{b}^{a} f_X dx"
   ]
  },
  {
   "cell_type": "markdown",
   "id": "1ffca2a9",
   "metadata": {},
   "source": [
    "**Cumulative Distribution Function**\n",
    "\n",
    "Intuitively, the cumulative distribution function (CDF) of a random variable $X$ measures the probability that X is less than or equal to a certain value.\n",
    "\n",
    "For a random variable $X$ with PDF $f_x(x)$ the CDF $F_x(x)$ is given by\n",
    "$$\n",
    "F_x(x)  = \\mathbb{P}(X \\leq x) \\tag{formula for CDF of continuous RV}\n",
    "$$"
   ]
  },
  {
   "cell_type": "markdown",
   "id": "7e4977f0",
   "metadata": {},
   "source": [
    "**Expected value**\n",
    "\n",
    "For a random variable $X$ with PMF $P_x$ or with PDF $f_x$, the expected value of $X$ is\n",
    "\n",
    "$$\n",
    "E(X)  = \\sum_{k \\in supp(X)} kP_x(k) \\tag{formula for PMF}\n",
    "$$\n",
    "$$\n",
    "E(X)  = \\int_{supp(X)}x * f_X \\tag{formula for PDF}\n",
    "$$"
   ]
  },
  {
   "cell_type": "code",
   "execution_count": 2,
   "id": "850a8d33",
   "metadata": {},
   "outputs": [
    {
     "data": {
      "text/plain": [
       "10.000000000000023"
      ]
     },
     "execution_count": 2,
     "metadata": {},
     "output_type": "execute_result"
    }
   ],
   "source": [
    "X = stats.poisson(10)\n",
    "EX = X.expect()\n",
    "EX"
   ]
  },
  {
   "cell_type": "markdown",
   "id": "c7906e0c",
   "metadata": {},
   "source": [
    "**Variance**\n",
    "\n",
    "For a random variable $X$ with expected value $E(X)$ and second moment $E(X^2)$, the variance of $X$ is\n",
    "\n",
    "\n",
    "$$\n",
    "var(X)  = E((X - E(X))^2) = E(X^2) - E(X)^2 \\tag{formula for variance}\n",
    "$$"
   ]
  },
  {
   "cell_type": "code",
   "execution_count": 3,
   "id": "d5059b4b",
   "metadata": {},
   "outputs": [
    {
     "data": {
      "text/plain": [
       "10.0"
      ]
     },
     "execution_count": 3,
     "metadata": {},
     "output_type": "execute_result"
    }
   ],
   "source": [
    "EX2 = X.moment(2)\n",
    "VarX = X.var()\n",
    "VarX"
   ]
  },
  {
   "cell_type": "code",
   "execution_count": 4,
   "id": "05651fb8",
   "metadata": {},
   "outputs": [
    {
     "data": {
      "text/plain": [
       "9.999999999999545"
      ]
     },
     "execution_count": 4,
     "metadata": {},
     "output_type": "execute_result"
    }
   ],
   "source": [
    "EX2 - EX**2 # very close due to rounding errors"
   ]
  },
  {
   "cell_type": "markdown",
   "id": "bcaa3d33",
   "metadata": {},
   "source": [
    "#### Examples of Probability Distributions"
   ]
  },
  {
   "cell_type": "markdown",
   "id": "a59ff4d8",
   "metadata": {},
   "source": [
    "---"
   ]
  },
  {
   "cell_type": "markdown",
   "id": "56c11926",
   "metadata": {},
   "source": [
    "§1. Bernoulli distribution\n",
    "\n",
    "A random variable $X \\sim Ber(p)$ follows a Bernoulli distribution with parameter $p$\n",
    "\n",
    "* The support is\n",
    "$$\n",
    "supp(X) = \\{0, 1\\}\n",
    "$$\n",
    "* The PMF is \n",
    "$$\n",
    "P_x(x) = p^x(1-p)^{1-x}\n",
    "$$\n",
    "* The expected value is\n",
    "$$\n",
    "\\mathbb E(X) = p\n",
    "$$\n",
    "* The variance is\n",
    "$$\n",
    "var(X) = p(1-p)\n",
    "$$\n",
    "\n",
    "In python, we can generate $10$ random samples from a Bernoulli distribution as follows:"
   ]
  },
  {
   "cell_type": "code",
   "execution_count": 5,
   "id": "895fdba7",
   "metadata": {},
   "outputs": [
    {
     "data": {
      "text/plain": [
       "array([0, 0, 1, 1, 0, 1, 0, 1, 1, 1])"
      ]
     },
     "execution_count": 5,
     "metadata": {},
     "output_type": "execute_result"
    }
   ],
   "source": [
    "X = stats.bernoulli(0.5)\n",
    "X.rvs(10)"
   ]
  },
  {
   "cell_type": "markdown",
   "id": "b2457917",
   "metadata": {},
   "source": [
    "**Binomial from Bernoulli**\n",
    "\n",
    "$$X \\sim \\text{Bin}(n, p)$$\n",
    "\n",
    "$$f_X = {n\\choose k} p^x(1-p)^{n-x}$$\n",
    "\n",
    "$$X = \\sum^N Y_i$$\n",
    "\n",
    "$$Y_i \\sim \\text{be}(p)$$"
   ]
  },
  {
   "cell_type": "markdown",
   "id": "07fbff42",
   "metadata": {},
   "source": [
    "---"
   ]
  },
  {
   "cell_type": "markdown",
   "id": "554eb8c1",
   "metadata": {},
   "source": [
    "§2. Discrete Uniform distribution\n",
    "\n",
    "A random variable $X \\sim Unif \\{a, b\\}$ follows a _discrete uniform_ distribution with parameter(s) a and b\n",
    "\n",
    "* The support is\n",
    "$$\n",
    "supp(X) = [a. b]\n",
    "$$\n",
    "* The PMF is \n",
    "$$\n",
    "P_x(x) =\n",
    "\\begin{cases}\n",
    "    \\frac{1}{b-a} & x \\in supp(X) \\\\\n",
    "    0 & \\text{else}\n",
    "\\end{cases}\n",
    "$$\n",
    "* The expected value is\n",
    "$$\n",
    "\\mathbb E(X) = \\frac{b+a}{2}\n",
    "$$\n",
    "* The variance is\n",
    "$$\n",
    "var(X) = \\frac{(b-a)^2}{12}\n",
    "$$\n",
    "\n",
    "We can generate $10$ random samples from a discrete uniform distribution as follows:"
   ]
  },
  {
   "cell_type": "code",
   "execution_count": 6,
   "id": "9f1f7267",
   "metadata": {},
   "outputs": [
    {
     "data": {
      "text/plain": [
       "array([0, 2, 5, 1, 0, 9, 2, 8, 1, 9])"
      ]
     },
     "execution_count": 6,
     "metadata": {},
     "output_type": "execute_result"
    }
   ],
   "source": [
    "X = stats.randint(0, 10)\n",
    "X.rvs(10)"
   ]
  },
  {
   "cell_type": "markdown",
   "id": "c0000bd7",
   "metadata": {},
   "source": [
    "---"
   ]
  },
  {
   "cell_type": "markdown",
   "id": "b7c5a779",
   "metadata": {},
   "source": [
    "§3. Poisson Distribution\n",
    "\n",
    "A random variable $X \\sim Poi(\\lambda)$ follows a _Poisson_ distribution with parameter(s) $\\lambda$\n",
    "\n",
    "* The support is\n",
    "$$\n",
    "supp(X) = \\{1, 2, ...\\}\n",
    "$$\n",
    "* The PMF is \n",
    "$$\n",
    "P_x(x) = \\frac{e^{-\\lambda} * \\lambda^x}{x!}\n",
    "$$\n",
    "* The expected value is\n",
    "$$\n",
    "\\mathbb E(X) = \\lambda\n",
    "$$\n",
    "* The variance is\n",
    "$$\n",
    "Var(X) = \\lambda\n",
    "$$\n",
    "\n",
    "We can generate $10$ random samples from a Poisson distribution as follows:"
   ]
  },
  {
   "cell_type": "code",
   "execution_count": 7,
   "id": "cc913380",
   "metadata": {},
   "outputs": [
    {
     "data": {
      "text/plain": [
       "array([25, 15, 29, 16, 19, 20, 18, 25, 21, 19])"
      ]
     },
     "execution_count": 7,
     "metadata": {},
     "output_type": "execute_result"
    }
   ],
   "source": [
    "X = stats.poisson(20)\n",
    "X.rvs(10)"
   ]
  },
  {
   "cell_type": "markdown",
   "id": "2836e9e3",
   "metadata": {},
   "source": [
    "---"
   ]
  },
  {
   "cell_type": "markdown",
   "id": "a2d78f9b",
   "metadata": {},
   "source": [
    "§4. Exponential distribution\n",
    "\n",
    "A random variable $X \\sim Exp(\\lambda)$ follows an _Exponential_ distribution with parameter(s) $\\lambda$\n",
    "\n",
    "* The support is\n",
    "$$\n",
    "supp(X) = (0, \\infty)\n",
    "$$\n",
    "* The PDF is \n",
    "$$\n",
    "fx(x) = \\lambda e^{-\\lambda x}, x \\geq 0\n",
    "$$\n",
    "* The expected value is\n",
    "$$\n",
    "\\mathbb E(X) = \\frac{1}{\\lambda}\n",
    "$$\n",
    "* The variance is\n",
    "$$\n",
    "Var(X) = \\frac{1}{\\lambda^2}\n",
    "$$\n",
    "\n",
    "We can generate $10$ random samples from an Exponential distribution as follows:"
   ]
  },
  {
   "cell_type": "code",
   "execution_count": 8,
   "id": "20cff9be",
   "metadata": {},
   "outputs": [
    {
     "data": {
      "text/plain": [
       "array([2.1237913 , 2.06533577, 1.03504198, 1.17793445, 1.68394137,\n",
       "       1.5347119 , 1.15300737, 1.35254903, 3.51639745, 1.36980104])"
      ]
     },
     "execution_count": 8,
     "metadata": {},
     "output_type": "execute_result"
    }
   ],
   "source": [
    "X = stats.expon(1)\n",
    "X.rvs(10)"
   ]
  },
  {
   "cell_type": "markdown",
   "id": "587326c8",
   "metadata": {},
   "source": [
    "---"
   ]
  },
  {
   "cell_type": "markdown",
   "id": "ea98f45b",
   "metadata": {},
   "source": [
    "§5. Normal Distribution\n",
    "\n",
    "A random variable $X \\sim N(\\mu, \\sigma^2)$ follows a Normal distribution with parameter(s) $\\mu$, $\\sigma$\n",
    "\n",
    "* The support is\n",
    "$$\n",
    "supp(X) = \\R\n",
    "$$\n",
    "* The PDF is \n",
    "$$\n",
    "fx(x) = \\frac{1}{\\sqrt{2\\pi \\sigma^2}}e^{\\frac{(x-\\mu)^2}{2}}\n",
    "$$\n",
    "* The expected value is\n",
    "$$\n",
    "\\mathbb E(X) = \\mu\n",
    "$$\n",
    "* The variance is\n",
    "$$\n",
    "Var(X) = \\sigma^2\n",
    "$$\n",
    "\n",
    "We can generate $10$ random samples from a Normal distribution as follows:"
   ]
  },
  {
   "cell_type": "code",
   "execution_count": 9,
   "id": "6e6ec1d6",
   "metadata": {},
   "outputs": [
    {
     "data": {
      "text/plain": [
       "array([-0.4262134 ,  2.19481731,  0.54297033,  0.82110068, -0.81057187,\n",
       "        0.06085597, -0.56030807, -0.7446777 ,  1.03452343, -0.46265545])"
      ]
     },
     "execution_count": 9,
     "metadata": {},
     "output_type": "execute_result"
    }
   ],
   "source": [
    "X = stats.norm(0, 1)\n",
    "X.rvs(10)"
   ]
  },
  {
   "cell_type": "markdown",
   "id": "09f36ac9",
   "metadata": {},
   "source": [
    "---"
   ]
  },
  {
   "cell_type": "markdown",
   "id": "a21c7bfb",
   "metadata": {},
   "source": [
    "§6. Chi-squared Distribution\n",
    "\n",
    "A random variable $X \\sim \\chi^2(k)$ follows a Chi-squared distribution with parameter(s) k\n",
    "\n",
    "* The support is\n",
    "$$\n",
    "supp(X) = (0, \\infty)\n",
    "$$\n",
    "* $X \\sim \\chi^2(k)$ is obtained using $k$ iid copies of a standard normal random variable $Z_1, Z_2, \\dots, Z_k \\sim N(0, 1)$ as follows:\n",
    "$$\n",
    "X = \\sum^N Z_i^2\n",
    "$$\n",
    "* The expected value is\n",
    "$$\n",
    "\\mathbb E(X) = k\n",
    "$$\n",
    "* The variance is\n",
    "$$\n",
    "Var(X) = 2k\n",
    "$$\n",
    "\n",
    "We can generate $10$ random samples from a Chi-squared distribution as follows:"
   ]
  },
  {
   "cell_type": "code",
   "execution_count": 10,
   "id": "19bed59c",
   "metadata": {},
   "outputs": [
    {
     "data": {
      "text/plain": [
       "array([ 2.45168102, 13.44532802, 10.9597844 ,  9.21968169, 15.54243462,\n",
       "        5.81694638,  6.05304271, 10.42750191, 23.75284879,  4.88891727])"
      ]
     },
     "execution_count": 10,
     "metadata": {},
     "output_type": "execute_result"
    }
   ],
   "source": [
    "X = stats.chi2(10)\n",
    "X.rvs(10)"
   ]
  },
  {
   "cell_type": "markdown",
   "id": "2f337b21",
   "metadata": {},
   "source": [
    "---"
   ]
  },
  {
   "cell_type": "markdown",
   "id": "3eeecfb7",
   "metadata": {},
   "source": [
    "§7. Student's t Distribution\n",
    "\n",
    "A random variable $X \\sim t(k)$ follows a Student's $t$ distribution with parameter(s) ... \n",
    "\n",
    "* The support is\n",
    "$$\n",
    "supp(X) = (-\\infty, \\infty)\n",
    "$$\n",
    "\n",
    "* Given $Z \\sim N(0,1)$ and $Y \\sim \\chi^2(k)$ with $Z \\perp Y$, a Student's $t$ random variable $X$ is obtained as follows:\n",
    "$$\n",
    "X = \\frac{Z}{\\sqrt{\\frac{Y}{k}}}\n",
    "$$\n",
    "\n",
    "\n",
    "We can generate $10$ random samples from a Student's $t$ distribution as follows:"
   ]
  },
  {
   "cell_type": "code",
   "execution_count": 11,
   "id": "d8d7ef05",
   "metadata": {},
   "outputs": [
    {
     "data": {
      "text/plain": [
       "array([ 0.53422456,  0.9872681 , -1.16500969,  1.65938943, -0.30137908,\n",
       "       -1.71798815, -1.25594503,  0.00507993,  0.1466212 , -0.21770989])"
      ]
     },
     "execution_count": 11,
     "metadata": {},
     "output_type": "execute_result"
    }
   ],
   "source": [
    "X = stats.t(40)\n",
    "X.rvs(10)"
   ]
  },
  {
   "cell_type": "markdown",
   "id": "c422fffe",
   "metadata": {},
   "source": [
    "---"
   ]
  },
  {
   "cell_type": "markdown",
   "id": "c19066de",
   "metadata": {},
   "source": [
    "§8. $F$ Distribution\n",
    "\n",
    "A random variable $X \\sim F(k_1, k_2)$ follows an $F$ distribution with parameter(s) ... \n",
    "\n",
    "* The support is\n",
    "$$\n",
    "supp(X) =(0, \\infty)\n",
    "$$\n",
    "\n",
    "* Given $Y \\sim \\chi^2(k_1)$ and $Z \\sim \\chi^2(k_2)$ with $Y \\perp Z$, an $F$ random variable $X$ is obtained as follows:\n",
    "$$\n",
    "X = \\frac{Y/k_1}{Z/k_2}\n",
    "$$\n",
    "\n",
    "We can generate $10$ random samples from a Normal distribution as follows:"
   ]
  },
  {
   "cell_type": "code",
   "execution_count": 12,
   "id": "ad952832",
   "metadata": {},
   "outputs": [
    {
     "data": {
      "text/plain": [
       "array([ 8.52257287,  0.09448246,  0.7643795 ,  1.18561893,  0.75779279,\n",
       "        0.4107955 ,  4.2285065 ,  0.38202945,  3.57939863, 38.83843883])"
      ]
     },
     "execution_count": 12,
     "metadata": {},
     "output_type": "execute_result"
    }
   ],
   "source": [
    "X = stats.f(3, 2)\n",
    "X.rvs(10)"
   ]
  },
  {
   "cell_type": "markdown",
   "id": "65b3274f",
   "metadata": {},
   "source": [
    "---"
   ]
  },
  {
   "cell_type": "markdown",
   "id": "5a816956",
   "metadata": {},
   "source": [
    "Suppose $X_1, X_2, \\dots, X_n$ are $n$ iid samples from a distribution with mean $E(X) = M$ and variance $var(X) = V$.\n",
    "\n",
    "Let $$\\bar{X} = \\frac{1}{n} \\sum_{i=1}^n X_i$$ be the sample mean and $$S^2 = \\frac{1}{n-1} \\sum_{i=1}^n (X_i - \\bar{X})^2$$ be the sample variance.\n",
    "\n",
    "**Law of large Numbers**\n",
    "\n",
    "In english, the law of large numbers says that as the number of observations increases, the average of the sample mean gets closer to the expected value.\n",
    "\n",
    "$$\n",
    "n \\rightarrow \\infty, \\frac{1}{n}\\sum^{n} x_i \\rightarrow \\mathbb{E}(X)\n",
    "$$\n",
    "\n",
    "\n",
    "**Central Limit Theorem**\n",
    "\n",
    "In english, the central limit theorem says that as the number of observations increases, the distribution of the observed values gets closer and closer to the normal distribution.\n",
    "\n",
    "$$\n",
    "\\frac{\\bar{X} - \\mathbb{E}(X)}{\\sqrt{Var(X)}} \\rightarrow N(0, 1) \\text{ as } n \\rightarrow \\infty\n",
    "$$"
   ]
  },
  {
   "cell_type": "markdown",
   "id": "f15473cf",
   "metadata": {},
   "source": [
    "---\n",
    "---"
   ]
  },
  {
   "cell_type": "markdown",
   "id": "06efcaa3",
   "metadata": {},
   "source": [
    "## Thu, Apr 11th"
   ]
  },
  {
   "cell_type": "markdown",
   "id": "40ef8679",
   "metadata": {},
   "source": [
    "#### Quantile\n",
    "Given a random variable $X \\sim D$ and a number $\\alpha \\in (0,1)$, the $\\alpha$-quantile of X is the value $q_\\alpha$ such that\n",
    "\n",
    "$$ \n",
    "\\mathbb{P}(X \\leq q_\\alpha) = \\alpha\n",
    "$$\n",
    "\n",
    "In terms of the CDF, this is\n",
    "\n",
    "$$\n",
    "F_X(q_\\alpha) = \\alpha\n",
    "$$\n",
    "\n",
    "In other words, $q_\\alpha$ is the value such that the probability that $X$ is less than or equal to $q_\\alpha$ is exactly $\\alpha$."
   ]
  },
  {
   "cell_type": "markdown",
   "id": "3b74e7cd",
   "metadata": {},
   "source": [
    "#### Empirical CDF\n",
    "Given samples $X_1, X_2,...,X_n$ from a random variable $X$m the empirical CDF is given by \n",
    "$$\n",
    "\\hat{F}_h(x) = \\frac{1}{n} \\sum_{i=1}^{n} I(X_i \\leq x)\n",
    "$$\n",
    "where $I(X_i \\leq x)$ is the indicator function\n",
    "$$\n",
    "I(X_i \\leq x) = \\begin{cases} 1 & \\text{ if } X_i \\leq x \\\\ 0 & \\text{ else} \\end{cases}\n",
    "$$\n",
    "Using the empirical CDF, $\\hat{F}_n(x)$, we can compute the **empirical quantile** of $X_1,X_2,...,X_n$, which is \n",
    "$$\n",
    "\\hat{q}_\\alpha = (100 \\times \\alpha)\\% \\text{ of } X_1,...,X_n\n",
    "$$"
   ]
  },
  {
   "cell_type": "markdown",
   "id": "ec34dff6",
   "metadata": {},
   "source": [
    "#### Statistic\n",
    "\n",
    "Suppose $X_n$ is sampled iid from a distribution $D(\\theta)$ where $\\theta$ is a parameter.\n",
    "\n",
    "Then, intuitively, a statistic $\\hat\\theta \\equiv \\hat\\theta(X_n)$ is a best guess for the parameter $\\theta$.\n"
   ]
  },
  {
   "cell_type": "markdown",
   "id": "17276790",
   "metadata": {},
   "source": [
    "#### Sampling Distribution\n",
    "\n",
    "Since $X_n$ are all random variables, the statistic $\\hat\\theta$ is also a random variable.\n",
    "\n",
    "In words, the sampling distribution of $\\hat\\theta$ is the distribution of $\\hat\\theta$ when $X_1,X_2,...,X_n$ are drawn from $D(\\theta)$."
   ]
  },
  {
   "cell_type": "markdown",
   "id": "797949bd",
   "metadata": {},
   "source": [
    "#### Intuition behind Sampling Distributions\n",
    "\n",
    "If we call the process of sampling $X_n$ from $D(\\theta)$ as a \"**random experiment**\", then let\n",
    "\n",
    "* $\\hat\\theta^{(1)}, \\hat\\theta^{(1)}, \\dots, \\hat\\theta^{(N)}$ be the statistics obtained from each of $N$ random experiments.\n",
    "\n",
    "Then, the sampling distribution of $\\hat\\theta$ roughly is\n",
    "\n",
    "$$ \\hat{\\theta} \\sim N(\\theta, \\frac{\\sigma^2}{n}) $$"
   ]
  },
  {
   "cell_type": "markdown",
   "id": "6bd876d5",
   "metadata": {},
   "source": [
    "---"
   ]
  },
  {
   "cell_type": "markdown",
   "id": "010684cd",
   "metadata": {},
   "source": [
    "#### Confidence Interval\n",
    "\n",
    "The **$100 \\times (1-\\alpha)\\%$ confidence interval** for a parameter $\\theta$ is an interval $[l_\\alpha, u_\\alpha]$ such that:\n",
    "\n",
    "$$\n",
    "\\mathbb{P}(l_\\alpha \\leq \\theta \\leq u_\\alpha) = 1 - \\alpha\n",
    "$$\n",
    "\n",
    "we denote this as $CI(\\theta) = [l_\\alpha, u_\\alpha]$."
   ]
  },
  {
   "cell_type": "markdown",
   "id": "dc0ac323",
   "metadata": {},
   "source": [
    "For a statistic $\\hat\\theta$ with standard error $SE(\\hat\\theta)$ the general formula for the $100 \\times (1-\\alpha)\\%$ confidence interval is given by\n",
    "\n",
    "\n",
    "$$\n",
    "CI(\\theta, \\alpha) = [\\hat{\\theta} - q_{1-\\alpha/2} \\times SE(\\hat\\theta), \\hat{\\theta} + q_{1-\\alpha/2} \\times SE(\\hat\\theta)]\n",
    "$$\n",
    "\n",
    "where $z_{\\alpha/2}$ is the $(1-\\alpha/2)$ quantile of the standard normal distribution."
   ]
  },
  {
   "cell_type": "markdown",
   "id": "461fd197",
   "metadata": {},
   "source": [
    "#### Interpretation of Confidence Intervals\n",
    "\n",
    "If we call the process of sampling $X_n$ from $D(\\theta)$ as a \"**random experiment**\" where $\\theta^*$ is the true, unknown population parameter.  \n",
    "\n",
    "Let\n",
    "\n",
    "$$\n",
    "[l_\\alpha^{(1)}, u_\\alpha^{(1)}], [l_\\alpha^{(2)}, u_\\alpha^{(2)}], \\dots, [l_\\alpha^{(N)}, u_\\alpha^{(N)}]\n",
    "$$\n",
    "\n",
    "be the $100 \\times (1-\\alpha)\\%$ confidence intervals obtained from each of $N$ random experiments.\n",
    "\n",
    "\n",
    "\n",
    "\n",
    "Then, the guarantee provided by the construction of the confidence interval is that \n",
    "\n",
    "$$ 100 \\times (1 - \\alpha)\\% \\text{ of the time the true parameter } \\theta \\text{ will lie in these intervals.} $$\n",
    "\n",
    "The proportion of times that the true parameter $\\theta$ lies in the interval $[l_\\alpha, u_\\alpha]$ is called the **coverage probability** of the interval."
   ]
  },
  {
   "cell_type": "markdown",
   "id": "36bab632",
   "metadata": {},
   "source": [
    "---"
   ]
  },
  {
   "cell_type": "markdown",
   "id": "cb2e0283",
   "metadata": {},
   "source": [
    "#### Examples of Confidence Intervals (from Math 183 or equivalent)"
   ]
  },
  {
   "cell_type": "markdown",
   "id": "3b9375e3",
   "metadata": {},
   "source": [
    "---"
   ]
  },
  {
   "cell_type": "markdown",
   "id": "92cc1844",
   "metadata": {},
   "source": [
    "§1. One sample Proportion\n",
    "\n",
    "| Description | Answer |\n",
    "|:---|:---|\n",
    "| Assumption | $X_n \\sim Be(\\theta)$ |\n",
    "| Population parameter | $\\theta = \\text{true proportion}$ |\n",
    "| Statistic | $\\hat\\theta = \\frac{1}{n} \\sum_{i=1}^{n} X_i$ |\n",
    "| Standard Error | $SE(\\hat\\theta) = \\sqrt{\\frac{\\hat{\\theta}(1-\\hat{\\theta})}{n}}$ |\n",
    "| Sampling distribution | $D_{\\hat\\theta} \\sim \\frac{1}{n} Bin(n, \\theta)$ |\n",
    "\n",
    "The **99\\% confidence interval** for $\\theta$ is given by\n",
    "\n",
    "$$\n",
    "CI(\\theta, \\alpha) = [\\hat{\\theta} - z_{0.005}\\sqrt{\\frac{\\hat{\\theta}(1-\\hat{\\theta})}{n}}, \\hat{\\theta} + z_{0.005}\\sqrt{\\frac{\\hat{\\theta}(1-\\hat{\\theta})}{n}}]\n",
    "$$"
   ]
  },
  {
   "cell_type": "code",
   "execution_count": 13,
   "id": "e2905e35",
   "metadata": {},
   "outputs": [],
   "source": [
    "true_theta = 0.75\n",
    "n = 1000\n",
    "alpha = 0.01\n",
    "X = stats.bernoulli(true_theta)\n",
    "sample = X.rvs(n)"
   ]
  },
  {
   "cell_type": "code",
   "execution_count": 14,
   "id": "ae3eafee",
   "metadata": {},
   "outputs": [],
   "source": [
    "theta_hat = sample.mean()\n",
    "SE = np.sqrt(theta_hat * (1 - theta_hat) / n)\n",
    "Z = stats.norm(0, 1)\n",
    "z = Z.ppf(1 - alpha/2)"
   ]
  },
  {
   "cell_type": "code",
   "execution_count": 15,
   "id": "f7b20d74",
   "metadata": {},
   "outputs": [],
   "source": [
    "ci = [theta_hat - z*SE, theta_hat + z*SE] # 95% CI"
   ]
  },
  {
   "cell_type": "code",
   "execution_count": 16,
   "id": "e4bcb87f",
   "metadata": {},
   "outputs": [
    {
     "name": "stdout",
     "output_type": "stream",
     "text": [
      "0.749 0.013711272734505722 \n",
      " [0.713682101901509, 0.784317898098491]\n"
     ]
    }
   ],
   "source": [
    "print(theta_hat, SE, \"\\n\", ci)"
   ]
  },
  {
   "cell_type": "markdown",
   "id": "aef1ab73",
   "metadata": {},
   "source": [
    "---"
   ]
  },
  {
   "cell_type": "markdown",
   "id": "bc3248d4",
   "metadata": {},
   "source": [
    "§2. Difference of two proportions\n",
    "\n",
    "| Description | Answer |\n",
    "|:---|:---|\n",
    "| Assumption | $X_n \\sim Be(\\theta_X)$  and $Y_m \\sim Be(\\theta_Y)$|\n",
    "| Population parameter | $\\theta = \\theta_X - \\theta_Y$ |\n",
    "| Statistic | $\\hat\\theta = \\hat{\\theta}_X - \\hat{\\theta}_Y$ |\n",
    "| Standard Error | $SE(\\hat\\theta) = \\sqrt{\\frac{\\hat{\\theta}_X(1 - \\hat{\\theta}_X)}{n} + \\frac{\\hat{\\theta}_Y(1 - \\hat{\\theta}_Y)}{m}}$ |\n",
    "| Sampling distribution | $D_{\\hat\\theta} \\sim \\frac{1}{n + m} Bin(n+m, \\theta_X - \\theta_Y)$ |\n",
    "\n",
    "The **97\\% confidence interval** for $\\theta$ is given by\n",
    "\n",
    "$$\n",
    "CI(\\theta, \\alpha) = [\\hat{\\theta} - z_{0.015}SE, \\hat{\\theta} + z_{0.015}SE]\n",
    "$$"
   ]
  },
  {
   "cell_type": "code",
   "execution_count": 17,
   "id": "4bba887e",
   "metadata": {},
   "outputs": [],
   "source": [
    "X = stats.bernoulli(0.6)\n",
    "Y = stats.bernoulli(0.4)\n",
    "n = 600\n",
    "m = 400\n",
    "alpha = 0.03\n",
    "sample_x = X.rvs(n)\n",
    "sample_y = Y.rvs(m)"
   ]
  },
  {
   "cell_type": "code",
   "execution_count": 18,
   "id": "13cb3984",
   "metadata": {},
   "outputs": [],
   "source": [
    "theta_x = sample_x.mean()\n",
    "theta_y = sample_y.mean()\n",
    "theta_hat = theta_x - theta_y\n",
    "SE = np.sqrt(\n",
    "    (theta_x * (1 - theta_x) / n) + (theta_y * (1 - theta_y) / m)\n",
    ")\n",
    "z = Z.ppf(1 - alpha/2)"
   ]
  },
  {
   "cell_type": "code",
   "execution_count": 19,
   "id": "af0c0ff5",
   "metadata": {},
   "outputs": [],
   "source": [
    "ci = [theta_hat - z*SE, theta_hat + z*SE]"
   ]
  },
  {
   "cell_type": "code",
   "execution_count": 20,
   "id": "d18f109e",
   "metadata": {},
   "outputs": [
    {
     "name": "stdout",
     "output_type": "stream",
     "text": [
      "0.2025 0.03163306879938566 \n",
      " [0.1338533817849828, 0.27114661821501723]\n"
     ]
    }
   ],
   "source": [
    "print(theta_hat, SE, \"\\n\", ci)"
   ]
  },
  {
   "cell_type": "markdown",
   "id": "94b46b3c",
   "metadata": {},
   "source": [
    "---"
   ]
  }
 ],
 "metadata": {
  "celltoolbar": "Slideshow",
  "hide_input": false,
  "kernelspec": {
   "display_name": "Python 3 (ipykernel)",
   "language": "python",
   "name": "python3"
  },
  "language_info": {
   "codemirror_mode": {
    "name": "ipython",
    "version": 3
   },
   "file_extension": ".py",
   "mimetype": "text/x-python",
   "name": "python",
   "nbconvert_exporter": "python",
   "pygments_lexer": "ipython3",
   "version": "3.10.1"
  },
  "toc": {
   "base_numbering": 2
  }
 },
 "nbformat": 4,
 "nbformat_minor": 5
}
